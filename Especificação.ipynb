{
  "nbformat": 4,
  "nbformat_minor": 0,
  "metadata": {
    "colab": {
      "provenance": []
    },
    "kernelspec": {
      "name": "python3",
      "display_name": "Python 3"
    },
    "language_info": {
      "name": "python"
    }
  },
  "cells": [
    {
      "cell_type": "markdown",
      "metadata": {
        "id": "CFTJh1VJhXQO"
      },
      "source": [
        "# Projeto"
      ]
    },
    {
      "cell_type": "markdown",
      "metadata": {
        "id": "okgk7zc4h-OH"
      },
      "source": [
        "O objetivo geral desta atividade é praticar os conceitos vistos ao longo da disciplina e trabalhar as habilidades necessárias para conduzir um projeto de ciência de dados."
      ]
    },
    {
      "cell_type": "markdown",
      "metadata": {
        "id": "RUFEpZjjhcqH"
      },
      "source": [
        "## Tarefas"
      ]
    },
    {
      "cell_type": "markdown",
      "source": [
        "Para atingir o objetivo proposto, vocês deverão **escolher** e **resolver** um problema na área de ciência de dados. Vocês devem seguir as seguintes etapas.\n",
        "1. Escolha do problema: vocês devem escolher um problema a ser resolvido. É importante que escolham um problema com dificuldade e demanda de tempo apropriados à situação de vocês no restante do semestre.\n",
        "Vocês podem utilizar projetos que **estejam trabalhando** atualmente (e.g., IC's, estágios e projetos de pesquisa). **Atividades passadas e já finalizadas não podem ser utilizadas.** Na dúvida, entrem em contato com o professor.\n",
        "2. Obtenção dos dados: para realizar o projeto, vocês precisarão de dados. Vocês podem coletar novas bases de dados ou utilizar bases existente. **A viabilidade da obtenção dos dados** é um fator importante na escolha do projeto.\n",
        "3. Resolução do problema: com base no problema proposto e nos dados obitidos, vocês devem utilizar as técnicas vistas em aulas (ou outras que julgarem necessárias) para resover o problema proposto.\n",
        "4. Análise de resultados: discutir os resultados obtidos. É importante que vocês mostrem que os técnicas escolhidas foram utilizadas de forma correta, que os resultados fazem sentido (mesmo que não validem as hipóteses iniciais) e que discutam os resultados encontrados."
      ],
      "metadata": {
        "id": "z1Dg2p8BCh9w"
      }
    },
    {
      "cell_type": "markdown",
      "metadata": {
        "id": "o1ASld2-huE3"
      },
      "source": [
        "## O que entregar?"
      ]
    },
    {
      "cell_type": "markdown",
      "source": [
        "### Parte I"
      ],
      "metadata": {
        "id": "Fhqsz0ElGcx3"
      }
    },
    {
      "cell_type": "markdown",
      "source": [
        "Um documento de **no máximo** uma página descrevendo brevemente o problema a ser resolvido e a fonte de dados a ser utilizada."
      ],
      "metadata": {
        "id": "ftEPuxsVL9Y1"
      }
    },
    {
      "cell_type": "markdown",
      "source": [
        "### Parte II"
      ],
      "metadata": {
        "id": "z1GxCOIWGg4y"
      }
    },
    {
      "cell_type": "markdown",
      "source": [
        "#### Graduação"
      ],
      "metadata": {
        "id": "OUcM-ufHGiVj"
      }
    },
    {
      "cell_type": "markdown",
      "source": [
        "1. Um *Jupyter Notebook*, contendo texto, código e resultados. Apenas um integrante do grupo deve fazer a submissão no AVA. Lembrem-se de colocar a informação de todos os integrantes do grupo (nome, matrícula e e-mail). Não é necessário que o *notebook* seja executável pelo professor. O *notebook* deve conter ao menos as seguintes seções:\n",
        "  - Introdução\n",
        "  - Definição do problema\n",
        "  - Descrição do conjunto de dados\n",
        "  - Metodologia\n",
        "  - Resultados\n",
        "  - Conclusões e discussões\n",
        "\n",
        "2. Um vídeo (de aproximadamente 5 minutos) descrevendo o trabalho e os resultados. Pretendo divulgar esse vídeo para os demais colegas da disciplina e para os professores do DI. **Os vídeos são apenas para facilitar a correção e não serão publicados!**"
      ],
      "metadata": {
        "id": "MhKRmvFPHYWJ"
      }
    },
    {
      "cell_type": "markdown",
      "source": [
        "### Mestrado e Doutorado"
      ],
      "metadata": {
        "id": "MRa75SddGj6U"
      }
    },
    {
      "cell_type": "markdown",
      "source": [
        "1. O mesmo item (1) que a graduação, descrito acima\n",
        "\n",
        "2. Um resumo em formato de artigo científico do trabalho. Além das seções do item (1), deve haver uma seção de trabalhos relacionados. O texto deve seguir o formato da SBC, para artigos (https://www.sbc.org.br/documentos-da-sbc/category/169-templates-para-artigos-e-capitulos-de-livros), e **deve ter aproximadamente cinco páginas**. Assim, fiquem atentos a trazer para o resumo apenas o que for mais importante no trabalho. Não deve haver código no resumo.\n",
        "\n",
        "**PS:** a correção dos trabalhos do mestrado será mais rígida do que dos alunos da graduação.\n",
        "\n",
        "**PS2:** no caso do doutorado, a correção será ainda mais rígida. Como mencionado em sala, idealmente, o trabalho dos doutorandos deve ser um *prelúdio* de um artigo científico."
      ],
      "metadata": {
        "id": "z2N-PizgKcIS"
      }
    },
    {
      "cell_type": "markdown",
      "metadata": {
        "id": "exsoCRlShxue"
      },
      "source": [
        "## Grupos"
      ]
    },
    {
      "cell_type": "markdown",
      "metadata": {
        "id": "9Y2N5Z6z5hg2"
      },
      "source": [
        "- **Graduação:** até 3 pessoas, desde que um projeto novo seja executado. Alunos que forem utilizar IC, TCC, Estágio, ou qualquer outra atividade que já estejam executando, devem fazer o trabalho sozinhos.\n",
        "- **Pós-graduação:** individual"
      ]
    },
    {
      "cell_type": "markdown",
      "metadata": {
        "id": "0FZB-sI2h5SD"
      },
      "source": [
        "## Entrega"
      ]
    },
    {
      "cell_type": "markdown",
      "source": [
        "Datas e links no AVA.\n",
        "\n"
      ],
      "metadata": {
        "id": "j8zIu3f-G43C"
      }
    },
    {
      "cell_type": "markdown",
      "source": [
        "## Importante"
      ],
      "metadata": {
        "id": "5-fp-pO4MSe8"
      }
    },
    {
      "cell_type": "markdown",
      "source": [
        "1. Lembrem-se que este trabalho vale 40% da nota do semestre. Vocês serão avaliados pela:\n",
        "  - Escolha e descrição do problema (vou levar em consideração o tempo que vocês têm para executar o projeto). Escolham problemas que terão condições de resolver!\n",
        "  - Escolha e condução da metodologia\n",
        "  - Uso de visualizações informativas e bem feitas\n",
        "  - Explicação dos passos seguidos e das decisões tomadas\n",
        "  - Justificativas para as decisões tomadas\n",
        "  - Análise dos resultados\n",
        "  - Conclusões\n",
        "2. Qualquer colaboração, entre grupos ou de fontes externas, deve ser citada e mencionada no trabalho. **NÃO HAVERÁ TOLERÂNCIA PARA COLABORAÇÕES INDEVIDAS!**"
      ],
      "metadata": {
        "id": "z7Tq_lr5MUbN"
      }
    },
    {
      "cell_type": "markdown",
      "metadata": {
        "id": "euhJZNqK6jCI"
      },
      "source": [
        "## Dúvidas?"
      ]
    },
    {
      "cell_type": "markdown",
      "metadata": {
        "id": "XKBfomkc6l8e"
      },
      "source": [
        "Postem em nosso fórum do AVA!"
      ]
    }
  ]
}