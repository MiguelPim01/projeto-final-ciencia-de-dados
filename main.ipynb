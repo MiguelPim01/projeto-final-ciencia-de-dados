{
 "cells": [
  {
   "cell_type": "markdown",
   "metadata": {},
   "source": [
    "# Projeto Final de Ciência de Dados"
   ]
  },
  {
   "cell_type": "markdown",
   "metadata": {},
   "source": [
    "## Bibliotecas"
   ]
  },
  {
   "cell_type": "code",
   "execution_count": 1,
   "metadata": {},
   "outputs": [],
   "source": [
    "import requests\n",
    "import pandas as pd\n",
    "from bs4 import BeautifulSoup\n",
    "import seaborn as sns\n",
    "import matplotlib.pyplot as plt\n",
    "from fake_useragent import UserAgent"
   ]
  },
  {
   "cell_type": "markdown",
   "metadata": {},
   "source": [
    "## Introdução"
   ]
  },
  {
   "cell_type": "markdown",
   "metadata": {},
   "source": [
    "Nome dos integrantes:\n",
    "\n",
    "- **Nome**: Alan Teixeira da Costa, **Matrícula**: 2022100890, **E-mail**: alan.costa@edu.ufes.br\n",
    "- **Nome**: Miguel Vieira Machado Pim, **Matrícula**: 2022100894, **E-mail**: miguel.pim@edu.ufes.br"
   ]
  },
  {
   "cell_type": "markdown",
   "metadata": {},
   "source": [
    "O objetivo geral deste projeto final é praticar os conceitos estudados durante toda a disciplina de Introdução a Ciência de Dados, principalmente: web scraping e aprendizado supervisionado. Para isso iremos fazer scraping do site https://www.transfermarkt.com.br/ para poder prever resultados de partidas de futebol a partir de dados da premier league e do brasileirão."
   ]
  },
  {
   "cell_type": "markdown",
   "metadata": {},
   "source": [
    "## Descrição de Problema"
   ]
  },
  {
   "cell_type": "markdown",
   "metadata": {},
   "source": [
    "Nosso problema consiste em construir um classificador capaz de prever resultados de partidas de futebol. Este classificador deverá classificar uma partida entre três possíveis resultados: vitória do time da casa, derrota do time da casa ou empate."
   ]
  },
  {
   "cell_type": "markdown",
   "metadata": {},
   "source": [
    "## Descrição do Conjunto de Dados"
   ]
  },
  {
   "cell_type": "markdown",
   "metadata": {},
   "source": [
    "Para este projeto utilizaremos um conjunto de dados de partidas de futebol. Os dados foram obtidos rodando o script para buscar partidas de ligas contido em [scraper](./scraper.ipynb) e rodando o script de juntas os dados em um único dataframe contido em [script_concatenação](./pre_processer.ipynb)."
   ]
  },
  {
   "cell_type": "markdown",
   "metadata": {},
   "source": [
    "Os dados estão organizados em um arquivo (```partidas.csv```) com as seguintes colunas:  \n",
    "\n",
    "Colunas com informações sobre a partida, indepedente do time:  \n",
    "- **capacidade_estadio**: Capacidade do estádio do time da casa (```int```)\n",
    "- **publico_estadio**: Público total que compareceu ao jogo (```int```)\n",
    "- **ano**: Ano em que o jogo aconteceu (```int```)\n",
    "- **fase**: Rodada da liga em que o jogo aconteceu (```str```)  \n",
    "\n",
    "Colunas com informações sobre os times. Aqui, todas as colunas também existem para o time fora bastando apenas mudar o nome \"casa\" para \"fora\" nas colunas:\n",
    "- **time_casa**: Nome do time da casa (```str```)\n",
    "- **gols_casa**: Quantidade de gols do time da casa (```int```)\n",
    "- **posse_casa**: Quantidade de posse de bola do time da casa em porcentagem (```int```)\n",
    "- **tentativas_casa**: Quantidade de chutes do time da casa (```int```)\n",
    "- **chutes_fora_casa**: Quantidade de chutes pra fora do gol da casa (```int```)\n",
    "- **defesa_casa**: Quantidade de defesas do goleiro do time da casa (```int```)\n",
    "- **escanteios_casa**: Quantidade de escanteios do time da casa (```int```)\n",
    "- **cobrancas_falta_casa**: Quantidade de cobranças de falta do time da casa (```int```)\n",
    "- **faltas_cometidas_casa**: Quantidade de faltas cometidas pelo time da casa (```int```)\n",
    "- **impedimentos_casa**: Quantidade de impedimentos do time da casa (```int```)"
   ]
  },
  {
   "cell_type": "markdown",
   "metadata": {},
   "source": [
    "Portanto, no total temos 24 colunas do nosso dataframe."
   ]
  },
  {
   "cell_type": "markdown",
   "metadata": {},
   "source": [
    "## Metodologia"
   ]
  },
  {
   "cell_type": "markdown",
   "metadata": {},
   "source": [
    "Para atingir o objetivo proposto utilizaremos os seguintes passos:  \n",
    "\n",
    "- Pré-processamento dos dados (retirar colunas desnecessárias dos dados e adicionar a coluna com as labels).\n",
    "- Aplicação de ao menos dois algoritmos de aprendizado supervisionado vistos em aula.\n",
    "- Validação da metodologia utilizada.\n",
    "- Interpretação dos resultados."
   ]
  },
  {
   "cell_type": "markdown",
   "metadata": {},
   "source": [
    "## Resultados"
   ]
  },
  {
   "cell_type": "markdown",
   "metadata": {},
   "source": [
    "## Conclusões e Discussões"
   ]
  }
 ],
 "metadata": {
  "kernelspec": {
   "display_name": "ds",
   "language": "python",
   "name": "python3"
  },
  "language_info": {
   "codemirror_mode": {
    "name": "ipython",
    "version": 3
   },
   "file_extension": ".py",
   "mimetype": "text/x-python",
   "name": "python",
   "nbconvert_exporter": "python",
   "pygments_lexer": "ipython3",
   "version": "3.13.2"
  }
 },
 "nbformat": 4,
 "nbformat_minor": 2
}
