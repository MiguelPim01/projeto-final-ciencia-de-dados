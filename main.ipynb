{
 "cells": [
  {
   "cell_type": "markdown",
   "metadata": {},
   "source": [
    "# Projeto Final de Ciência de Dados"
   ]
  },
  {
   "cell_type": "markdown",
   "metadata": {},
   "source": [
    "## Bibliotecas"
   ]
  },
  {
   "cell_type": "code",
   "execution_count": 20,
   "metadata": {},
   "outputs": [],
   "source": [
    "import requests\n",
    "import pandas as pd\n",
    "from bs4 import BeautifulSoup\n",
    "import seaborn as sns\n",
    "import matplotlib.pyplot as plt"
   ]
  },
  {
   "cell_type": "markdown",
   "metadata": {},
   "source": [
    "## Introdução"
   ]
  },
  {
   "cell_type": "markdown",
   "metadata": {},
   "source": [
    "Nome dos integrantes:\n",
    "\n",
    "- **Nome**: Alan Teixeira da Costa, **Matrícula**: 2022100890, **E-mail**: alan.costa@edu.ufes.br\n",
    "- **Nome**: Miguel Vieira Machado Pim, **Matrícula**: 2022100894, **E-mail**: miguel.pim@edu.ufes.br"
   ]
  },
  {
   "cell_type": "markdown",
   "metadata": {},
   "source": [
    "Neste projeto final iremos praticar os conceitos estudados durante toda a disciplina de Introdução a Ciência de Dados como: Análise de Dados, Web scraping, clusterização, entre outros. Para isso iremos fazer scraping de dados do site https://www.transfermarkt.com.br/ para poder estudar e analisar as competições de caráter eliminatório (Copa do Brasil) e de pontos corridos (Brasileirão)."
   ]
  },
  {
   "cell_type": "markdown",
   "metadata": {},
   "source": [
    "## Descrição de Problema"
   ]
  },
  {
   "cell_type": "markdown",
   "metadata": {},
   "source": [
    "O nosso problema consiste em analisar se os fatores (variáveis) que influenciam um time a ter uma boa colocação em um campeonato de pontos são os mesmos que em uma competição mata-mata. Para isso consideraremos uma boa colocação nos pontos corridos sendo o G4 (quatro primeiras posições) e no mata-mata, ter chegado as fases de semi-finais."
   ]
  },
  {
   "cell_type": "markdown",
   "metadata": {},
   "source": [
    "## Descrição do Conjunto de Dados"
   ]
  },
  {
   "cell_type": "markdown",
   "metadata": {},
   "source": [
    "## Metodologia"
   ]
  },
  {
   "cell_type": "markdown",
   "metadata": {},
   "source": [
    "## Scapring de dados"
   ]
  },
  {
   "cell_type": "markdown",
   "metadata": {},
   "source": [
    "Definindo cabeçalho"
   ]
  },
  {
   "cell_type": "code",
   "execution_count": 2,
   "metadata": {},
   "outputs": [],
   "source": [
    "headers = {\"User-Agent\": \"Mozilla/5.0 (X11; Linux x86_64) AppleWebKit/537.36 (KHTML, like Gecko) Chrome/133.0.0.0 Safari/537.36\"}"
   ]
  },
  {
   "cell_type": "markdown",
   "metadata": {},
   "source": [
    "### Brasileirão"
   ]
  },
  {
   "cell_type": "markdown",
   "metadata": {},
   "source": [
    "Definindo url de busca por dados do Brasileirão"
   ]
  },
  {
   "cell_type": "code",
   "execution_count": 3,
   "metadata": {},
   "outputs": [],
   "source": [
    "# Brasileirão\n",
    "url = \"https://www.transfermarkt.com.br/campeonato-brasileiro-serie-a/tabelle/wettbewerb/BRA1/saison_id/\""
   ]
  },
  {
   "cell_type": "code",
   "execution_count": 4,
   "metadata": {},
   "outputs": [],
   "source": [
    "resultados_brasileirao = {\n",
    "    'Ano': [],\n",
    "    'Posicao': [],\n",
    "    'Nome': [],\n",
    "    'Jogos': [],\n",
    "    'Vitorias': [],\n",
    "    'Empates': [],\n",
    "    'Derrotas': [],\n",
    "    'Gols': [],\n",
    "    'SG': [],\n",
    "    'Pontos': []\n",
    "}"
   ]
  },
  {
   "cell_type": "code",
   "execution_count": 5,
   "metadata": {},
   "outputs": [
    {
     "name": "stdout",
     "output_type": "stream",
     "text": [
      "Obtendo 2024 ...\n",
      "Obtendo 2023 ...\n",
      "Obtendo 2022 ...\n",
      "Obtendo 2021 ...\n",
      "Obtendo 2020 ...\n",
      "Obtendo 2019 ...\n",
      "Obtendo 2018 ...\n",
      "Obtendo 2017 ...\n",
      "Obtendo 2016 ...\n",
      "Obtendo 2015 ...\n",
      "Obtendo 2014 ...\n",
      "Obtendo 2013 ...\n",
      "Obtendo 2012 ...\n",
      "Obtendo 2011 ...\n",
      "Obtendo 2010 ...\n",
      "Obtendo 2009 ...\n",
      "Obtendo 2008 ...\n",
      "Obtendo 2007 ...\n",
      "Obtendo 2006 ...\n",
      "Obtendo 2005 ...\n",
      "Obtendo 2004 ...\n",
      "Obtendo 2003 ...\n",
      "Obtendo 2002 ...\n",
      "Obtendo 2001 ...\n"
     ]
    }
   ],
   "source": [
    "for ano in range(2024, 2000, -1):\n",
    "    print(\"Obtendo\", ano, \"...\")\n",
    "\n",
    "    page_url = url + str(ano - 1)\n",
    "\n",
    "    res = requests.get(url=page_url, headers=headers)\n",
    "\n",
    "    pageSoup = BeautifulSoup(res.content, 'html.parser')\n",
    "\n",
    "    tables = pageSoup.find_all(\"table\", {\"class\": \"items\"})\n",
    "\n",
    "    table_rows = tables[0].find_all(\"tbody\")[0].find_all(\"tr\")\n",
    "\n",
    "    for row in table_rows:\n",
    "        line = row.find_all(\"td\")\n",
    "\n",
    "        resultados_brasileirao['Ano'].append(ano)\n",
    "        resultados_brasileirao['Posicao'].append(line[0].text)\n",
    "        resultados_brasileirao['Nome'].append(line[2].text.strip())\n",
    "        resultados_brasileirao['Jogos'].append(line[3].text)\n",
    "        resultados_brasileirao['Vitorias'].append(line[4].text)\n",
    "        resultados_brasileirao['Empates'].append(line[5].text)\n",
    "        resultados_brasileirao['Derrotas'].append(line[6].text)\n",
    "        resultados_brasileirao['Gols'].append(line[7].text)\n",
    "        resultados_brasileirao['SG'].append(line[8].text)\n",
    "        resultados_brasileirao['Pontos'].append(line[9].text)"
   ]
  },
  {
   "cell_type": "code",
   "execution_count": 6,
   "metadata": {},
   "outputs": [
    {
     "data": {
      "text/html": [
       "<div>\n",
       "<style scoped>\n",
       "    .dataframe tbody tr th:only-of-type {\n",
       "        vertical-align: middle;\n",
       "    }\n",
       "\n",
       "    .dataframe tbody tr th {\n",
       "        vertical-align: top;\n",
       "    }\n",
       "\n",
       "    .dataframe thead th {\n",
       "        text-align: right;\n",
       "    }\n",
       "</style>\n",
       "<table border=\"1\" class=\"dataframe\">\n",
       "  <thead>\n",
       "    <tr style=\"text-align: right;\">\n",
       "      <th></th>\n",
       "      <th>Ano</th>\n",
       "      <th>Posicao</th>\n",
       "      <th>Nome</th>\n",
       "      <th>Jogos</th>\n",
       "      <th>Vitorias</th>\n",
       "      <th>Empates</th>\n",
       "      <th>Derrotas</th>\n",
       "      <th>Gols</th>\n",
       "      <th>SG</th>\n",
       "      <th>Pontos</th>\n",
       "    </tr>\n",
       "  </thead>\n",
       "  <tbody>\n",
       "    <tr>\n",
       "      <th>0</th>\n",
       "      <td>2024</td>\n",
       "      <td>1</td>\n",
       "      <td>Botafogo</td>\n",
       "      <td>38</td>\n",
       "      <td>23</td>\n",
       "      <td>10</td>\n",
       "      <td>5</td>\n",
       "      <td>59:29</td>\n",
       "      <td>30</td>\n",
       "      <td>79</td>\n",
       "    </tr>\n",
       "    <tr>\n",
       "      <th>1</th>\n",
       "      <td>2024</td>\n",
       "      <td>2</td>\n",
       "      <td>Palmeiras</td>\n",
       "      <td>38</td>\n",
       "      <td>22</td>\n",
       "      <td>7</td>\n",
       "      <td>9</td>\n",
       "      <td>60:33</td>\n",
       "      <td>27</td>\n",
       "      <td>73</td>\n",
       "    </tr>\n",
       "    <tr>\n",
       "      <th>2</th>\n",
       "      <td>2024</td>\n",
       "      <td>3</td>\n",
       "      <td>Flamengo</td>\n",
       "      <td>38</td>\n",
       "      <td>20</td>\n",
       "      <td>10</td>\n",
       "      <td>8</td>\n",
       "      <td>61:42</td>\n",
       "      <td>19</td>\n",
       "      <td>70</td>\n",
       "    </tr>\n",
       "    <tr>\n",
       "      <th>3</th>\n",
       "      <td>2024</td>\n",
       "      <td>4</td>\n",
       "      <td>Fortaleza</td>\n",
       "      <td>38</td>\n",
       "      <td>19</td>\n",
       "      <td>11</td>\n",
       "      <td>8</td>\n",
       "      <td>53:39</td>\n",
       "      <td>14</td>\n",
       "      <td>68</td>\n",
       "    </tr>\n",
       "    <tr>\n",
       "      <th>4</th>\n",
       "      <td>2024</td>\n",
       "      <td>5</td>\n",
       "      <td>Internacional</td>\n",
       "      <td>38</td>\n",
       "      <td>18</td>\n",
       "      <td>11</td>\n",
       "      <td>9</td>\n",
       "      <td>53:36</td>\n",
       "      <td>17</td>\n",
       "      <td>65</td>\n",
       "    </tr>\n",
       "  </tbody>\n",
       "</table>\n",
       "</div>"
      ],
      "text/plain": [
       "    Ano Posicao           Nome Jogos Vitorias Empates Derrotas   Gols  SG  \\\n",
       "0  2024     1         Botafogo    38       23      10        5  59:29  30   \n",
       "1  2024     2        Palmeiras    38       22       7        9  60:33  27   \n",
       "2  2024     3         Flamengo    38       20      10        8  61:42  19   \n",
       "3  2024     4        Fortaleza    38       19      11        8  53:39  14   \n",
       "4  2024     5    Internacional    38       18      11        9  53:36  17   \n",
       "\n",
       "  Pontos  \n",
       "0     79  \n",
       "1     73  \n",
       "2     70  \n",
       "3     68  \n",
       "4     65  "
      ]
     },
     "execution_count": 6,
     "metadata": {},
     "output_type": "execute_result"
    }
   ],
   "source": [
    "df_brasileirao = pd.DataFrame(resultados_brasileirao)\n",
    "df_brasileirao.head()"
   ]
  },
  {
   "cell_type": "code",
   "execution_count": 12,
   "metadata": {},
   "outputs": [
    {
     "data": {
      "text/plain": [
       "(504, 10)"
      ]
     },
     "execution_count": 12,
     "metadata": {},
     "output_type": "execute_result"
    }
   ],
   "source": [
    "df_brasileirao.shape"
   ]
  },
  {
   "cell_type": "markdown",
   "metadata": {},
   "source": [
    "Vizualizando o dataframe"
   ]
  },
  {
   "cell_type": "code",
   "execution_count": 26,
   "metadata": {},
   "outputs": [
    {
     "data": {
      "text/plain": [
       "Text(0, 0.5, 'Quantidade de times')"
      ]
     },
     "execution_count": 26,
     "metadata": {},
     "output_type": "execute_result"
    },
    {
     "data": {
      "image/png": "[encoded data removed]",
      "text/plain": [
       "<Figure size 1500x700 with 1 Axes>"
      ]
     },
     "metadata": {},
     "output_type": "display_data"
    }
   ],
   "source": [
    "df_brasileirao_grouped_by_year = df_brasileirao.groupby(\"Ano\")[\"Nome\"].nunique()\n",
    "\n",
    "fig, ax = plt.subplots(figsize=(15, 7))\n",
    "sns.barplot(df_brasileirao_grouped_by_year, ax=ax)\n",
    "\n",
    "for container in ax.containers:\n",
    "    ax.bar_label(container, fmt=\"%d\", padding=5)\n",
    "    \n",
    "plt.ylabel(\"Quantidade de times\")"
   ]
  },
  {
   "cell_type": "markdown",
   "metadata": {},
   "source": [
    "### Copa do Brasil"
   ]
  },
  {
   "cell_type": "markdown",
   "metadata": {},
   "source": [
    "Definindo url de busca por dados da Copa do Brasil"
   ]
  },
  {
   "cell_type": "code",
   "execution_count": 7,
   "metadata": {},
   "outputs": [],
   "source": [
    "# Copa do Brasil\n",
    "url = \"https://www.transfermarkt.com.br/copa-do-brasil/gesamtspielplan/pokalwettbewerb/BRC/saison_id/\""
   ]
  },
  {
   "cell_type": "code",
   "execution_count": 8,
   "metadata": {},
   "outputs": [],
   "source": [
    "resultados_copa_do_brasil = {\n",
    "    'Ano': [],\n",
    "    'Fase': [],\n",
    "    'TimeCasa': [],\n",
    "    'Placar': [],\n",
    "    'TimeFora': []\n",
    "}"
   ]
  },
  {
   "cell_type": "code",
   "execution_count": 9,
   "metadata": {},
   "outputs": [
    {
     "name": "stdout",
     "output_type": "stream",
     "text": [
      "Obtendo 2024 ...\n",
      "Obtendo 2023 ...\n",
      "Obtendo 2022 ...\n",
      "Obtendo 2021 ...\n",
      "Obtendo 2020 ...\n",
      "Obtendo 2019 ...\n",
      "Obtendo 2018 ...\n",
      "Obtendo 2017 ...\n",
      "Obtendo 2016 ...\n",
      "Obtendo 2015 ...\n",
      "Obtendo 2014 ...\n",
      "Obtendo 2013 ...\n",
      "Obtendo 2012 ...\n",
      "Obtendo 2011 ...\n",
      "Obtendo 2010 ...\n",
      "Obtendo 2009 ...\n",
      "Obtendo 2008 ...\n",
      "Obtendo 2007 ...\n",
      "Obtendo 2006 ...\n",
      "Obtendo 2005 ...\n",
      "Obtendo 2004 ...\n",
      "Obtendo 2003 ...\n",
      "Obtendo 2002 ...\n",
      "Obtendo 2001 ...\n"
     ]
    }
   ],
   "source": [
    "for ano in range(2024, 2000, -1):\n",
    "    print(\"Obtendo\", ano, \"...\")\n",
    "\n",
    "    page_url = url + str(ano - 1)\n",
    "\n",
    "    res = requests.get(url=page_url, headers=headers)\n",
    "\n",
    "    pageSoup = BeautifulSoup(res.content, 'html.parser')\n",
    "    \n",
    "    tables = pageSoup.find_all(\"table\")\n",
    "    if not tables:\n",
    "        print(f\"\\tNenhuma table encontrada para o ano {ano}\")\n",
    "        continue\n",
    "    \n",
    "    tables_stages = tables[1].find_all(\"tbody\")\n",
    "    if not tables_stages:\n",
    "        print(f\"\\tNenhum tbody encontrado para o ano {ano}\")\n",
    "        continue\n",
    "    \n",
    "    for stages in tables_stages:\n",
    "        table_rows = stages.find_all(\"tr\")\n",
    "        \n",
    "        fase = table_rows[0].find_all(\"td\")[0].text.strip()\n",
    "        \n",
    "        for row in table_rows:\n",
    "            if row.has_attr(\"class\"):\n",
    "                continue\n",
    "            \n",
    "            line = row.find_all(\"td\")\n",
    "            \n",
    "            if len(line) < 8:\n",
    "                print(f\"Linha ignorada (menos de 8 colunas): {line}\")\n",
    "                continue\n",
    "            \n",
    "            resultados_copa_do_brasil[\"Ano\"].append(ano)\n",
    "            resultados_copa_do_brasil[\"Fase\"].append(fase)\n",
    "            resultados_copa_do_brasil[\"TimeCasa\"].append(line[3].text.strip())\n",
    "            resultados_copa_do_brasil[\"Placar\"].append(line[5].text.strip())\n",
    "            resultados_copa_do_brasil[\"TimeFora\"].append(line[7].text.strip())"
   ]
  },
  {
   "cell_type": "code",
   "execution_count": 10,
   "metadata": {},
   "outputs": [
    {
     "data": {
      "text/html": [
       "<div>\n",
       "<style scoped>\n",
       "    .dataframe tbody tr th:only-of-type {\n",
       "        vertical-align: middle;\n",
       "    }\n",
       "\n",
       "    .dataframe tbody tr th {\n",
       "        vertical-align: top;\n",
       "    }\n",
       "\n",
       "    .dataframe thead th {\n",
       "        text-align: right;\n",
       "    }\n",
       "</style>\n",
       "<table border=\"1\" class=\"dataframe\">\n",
       "  <thead>\n",
       "    <tr style=\"text-align: right;\">\n",
       "      <th></th>\n",
       "      <th>Ano</th>\n",
       "      <th>Fase</th>\n",
       "      <th>TimeCasa</th>\n",
       "      <th>Placar</th>\n",
       "      <th>TimeFora</th>\n",
       "    </tr>\n",
       "  </thead>\n",
       "  <tbody>\n",
       "    <tr>\n",
       "      <th>0</th>\n",
       "      <td>2024</td>\n",
       "      <td>1ª eliminatória</td>\n",
       "      <td>Porto Velho</td>\n",
       "      <td>1:0</td>\n",
       "      <td>Remo</td>\n",
       "    </tr>\n",
       "    <tr>\n",
       "      <th>1</th>\n",
       "      <td>2024</td>\n",
       "      <td>1ª eliminatória</td>\n",
       "      <td>Nova Venécia</td>\n",
       "      <td>1:2</td>\n",
       "      <td>Botafogo-SP</td>\n",
       "    </tr>\n",
       "    <tr>\n",
       "      <th>2</th>\n",
       "      <td>2024</td>\n",
       "      <td>1ª eliminatória</td>\n",
       "      <td>Real Brasília</td>\n",
       "      <td>2:1</td>\n",
       "      <td>São Raimundo-RR</td>\n",
       "    </tr>\n",
       "    <tr>\n",
       "      <th>3</th>\n",
       "      <td>2024</td>\n",
       "      <td>1ª eliminatória</td>\n",
       "      <td>River-PI</td>\n",
       "      <td>1:1</td>\n",
       "      <td>Ypiranga-RS</td>\n",
       "    </tr>\n",
       "    <tr>\n",
       "      <th>4</th>\n",
       "      <td>2024</td>\n",
       "      <td>1ª eliminatória</td>\n",
       "      <td>Manauara</td>\n",
       "      <td>1:2</td>\n",
       "      <td>Retrô</td>\n",
       "    </tr>\n",
       "  </tbody>\n",
       "</table>\n",
       "</div>"
      ],
      "text/plain": [
       "    Ano             Fase       TimeCasa Placar         TimeFora\n",
       "0  2024  1ª eliminatória    Porto Velho    1:0             Remo\n",
       "1  2024  1ª eliminatória   Nova Venécia    1:2      Botafogo-SP\n",
       "2  2024  1ª eliminatória  Real Brasília    2:1  São Raimundo-RR\n",
       "3  2024  1ª eliminatória       River-PI    1:1      Ypiranga-RS\n",
       "4  2024  1ª eliminatória       Manauara    1:2            Retrô"
      ]
     },
     "execution_count": 10,
     "metadata": {},
     "output_type": "execute_result"
    }
   ],
   "source": [
    "df_copa_do_brasil = pd.DataFrame(resultados_copa_do_brasil)\n",
    "df_copa_do_brasil.head()"
   ]
  },
  {
   "cell_type": "code",
   "execution_count": 11,
   "metadata": {},
   "outputs": [
    {
     "data": {
      "text/plain": [
       "(2975, 5)"
      ]
     },
     "execution_count": 11,
     "metadata": {},
     "output_type": "execute_result"
    }
   ],
   "source": [
    "df_copa_do_brasil.shape"
   ]
  },
  {
   "cell_type": "markdown",
   "metadata": {},
   "source": [
    "## Pré-processamento dos dados"
   ]
  },
  {
   "cell_type": "markdown",
   "metadata": {},
   "source": [
    "Já temos os dataframes em mãos mas agora precisamos pré-processar eles, deixando apenas aquilo que importa"
   ]
  },
  {
   "cell_type": "markdown",
   "metadata": {},
   "source": [
    "### Brasileirão"
   ]
  },
  {
   "cell_type": "code",
   "execution_count": 13,
   "metadata": {},
   "outputs": [
    {
     "data": {
      "text/html": [
       "<div>\n",
       "<style scoped>\n",
       "    .dataframe tbody tr th:only-of-type {\n",
       "        vertical-align: middle;\n",
       "    }\n",
       "\n",
       "    .dataframe tbody tr th {\n",
       "        vertical-align: top;\n",
       "    }\n",
       "\n",
       "    .dataframe thead th {\n",
       "        text-align: right;\n",
       "    }\n",
       "</style>\n",
       "<table border=\"1\" class=\"dataframe\">\n",
       "  <thead>\n",
       "    <tr style=\"text-align: right;\">\n",
       "      <th></th>\n",
       "      <th>Ano</th>\n",
       "      <th>Posicao</th>\n",
       "      <th>Nome</th>\n",
       "      <th>Jogos</th>\n",
       "      <th>Vitorias</th>\n",
       "      <th>Empates</th>\n",
       "      <th>Derrotas</th>\n",
       "      <th>Gols</th>\n",
       "      <th>SG</th>\n",
       "      <th>Pontos</th>\n",
       "    </tr>\n",
       "  </thead>\n",
       "  <tbody>\n",
       "    <tr>\n",
       "      <th>0</th>\n",
       "      <td>2024</td>\n",
       "      <td>1</td>\n",
       "      <td>Botafogo</td>\n",
       "      <td>38</td>\n",
       "      <td>23</td>\n",
       "      <td>10</td>\n",
       "      <td>5</td>\n",
       "      <td>59:29</td>\n",
       "      <td>30</td>\n",
       "      <td>79</td>\n",
       "    </tr>\n",
       "    <tr>\n",
       "      <th>1</th>\n",
       "      <td>2024</td>\n",
       "      <td>2</td>\n",
       "      <td>Palmeiras</td>\n",
       "      <td>38</td>\n",
       "      <td>22</td>\n",
       "      <td>7</td>\n",
       "      <td>9</td>\n",
       "      <td>60:33</td>\n",
       "      <td>27</td>\n",
       "      <td>73</td>\n",
       "    </tr>\n",
       "    <tr>\n",
       "      <th>2</th>\n",
       "      <td>2024</td>\n",
       "      <td>3</td>\n",
       "      <td>Flamengo</td>\n",
       "      <td>38</td>\n",
       "      <td>20</td>\n",
       "      <td>10</td>\n",
       "      <td>8</td>\n",
       "      <td>61:42</td>\n",
       "      <td>19</td>\n",
       "      <td>70</td>\n",
       "    </tr>\n",
       "    <tr>\n",
       "      <th>3</th>\n",
       "      <td>2024</td>\n",
       "      <td>4</td>\n",
       "      <td>Fortaleza</td>\n",
       "      <td>38</td>\n",
       "      <td>19</td>\n",
       "      <td>11</td>\n",
       "      <td>8</td>\n",
       "      <td>53:39</td>\n",
       "      <td>14</td>\n",
       "      <td>68</td>\n",
       "    </tr>\n",
       "    <tr>\n",
       "      <th>4</th>\n",
       "      <td>2024</td>\n",
       "      <td>5</td>\n",
       "      <td>Internacional</td>\n",
       "      <td>38</td>\n",
       "      <td>18</td>\n",
       "      <td>11</td>\n",
       "      <td>9</td>\n",
       "      <td>53:36</td>\n",
       "      <td>17</td>\n",
       "      <td>65</td>\n",
       "    </tr>\n",
       "  </tbody>\n",
       "</table>\n",
       "</div>"
      ],
      "text/plain": [
       "    Ano Posicao           Nome Jogos Vitorias Empates Derrotas   Gols  SG  \\\n",
       "0  2024     1         Botafogo    38       23      10        5  59:29  30   \n",
       "1  2024     2        Palmeiras    38       22       7        9  60:33  27   \n",
       "2  2024     3         Flamengo    38       20      10        8  61:42  19   \n",
       "3  2024     4        Fortaleza    38       19      11        8  53:39  14   \n",
       "4  2024     5    Internacional    38       18      11        9  53:36  17   \n",
       "\n",
       "  Pontos  \n",
       "0     79  \n",
       "1     73  \n",
       "2     70  \n",
       "3     68  \n",
       "4     65  "
      ]
     },
     "execution_count": 13,
     "metadata": {},
     "output_type": "execute_result"
    }
   ],
   "source": [
    "df_brasileirao.head()"
   ]
  },
  {
   "cell_type": "markdown",
   "metadata": {},
   "source": [
    "Adicionando duas colunas: GP (Gols Pró) e GC (Gols Contra)"
   ]
  },
  {
   "cell_type": "code",
   "execution_count": 15,
   "metadata": {},
   "outputs": [
    {
     "data": {
      "text/html": [
       "<div>\n",
       "<style scoped>\n",
       "    .dataframe tbody tr th:only-of-type {\n",
       "        vertical-align: middle;\n",
       "    }\n",
       "\n",
       "    .dataframe tbody tr th {\n",
       "        vertical-align: top;\n",
       "    }\n",
       "\n",
       "    .dataframe thead th {\n",
       "        text-align: right;\n",
       "    }\n",
       "</style>\n",
       "<table border=\"1\" class=\"dataframe\">\n",
       "  <thead>\n",
       "    <tr style=\"text-align: right;\">\n",
       "      <th></th>\n",
       "      <th>Ano</th>\n",
       "      <th>Posicao</th>\n",
       "      <th>Nome</th>\n",
       "      <th>Jogos</th>\n",
       "      <th>Vitorias</th>\n",
       "      <th>Empates</th>\n",
       "      <th>Derrotas</th>\n",
       "      <th>Gols</th>\n",
       "      <th>SG</th>\n",
       "      <th>Pontos</th>\n",
       "      <th>GP</th>\n",
       "      <th>GC</th>\n",
       "    </tr>\n",
       "  </thead>\n",
       "  <tbody>\n",
       "    <tr>\n",
       "      <th>0</th>\n",
       "      <td>2024</td>\n",
       "      <td>1</td>\n",
       "      <td>Botafogo</td>\n",
       "      <td>38</td>\n",
       "      <td>23</td>\n",
       "      <td>10</td>\n",
       "      <td>5</td>\n",
       "      <td>59:29</td>\n",
       "      <td>30</td>\n",
       "      <td>79</td>\n",
       "      <td>59</td>\n",
       "      <td>29</td>\n",
       "    </tr>\n",
       "    <tr>\n",
       "      <th>1</th>\n",
       "      <td>2024</td>\n",
       "      <td>2</td>\n",
       "      <td>Palmeiras</td>\n",
       "      <td>38</td>\n",
       "      <td>22</td>\n",
       "      <td>7</td>\n",
       "      <td>9</td>\n",
       "      <td>60:33</td>\n",
       "      <td>27</td>\n",
       "      <td>73</td>\n",
       "      <td>60</td>\n",
       "      <td>33</td>\n",
       "    </tr>\n",
       "    <tr>\n",
       "      <th>2</th>\n",
       "      <td>2024</td>\n",
       "      <td>3</td>\n",
       "      <td>Flamengo</td>\n",
       "      <td>38</td>\n",
       "      <td>20</td>\n",
       "      <td>10</td>\n",
       "      <td>8</td>\n",
       "      <td>61:42</td>\n",
       "      <td>19</td>\n",
       "      <td>70</td>\n",
       "      <td>61</td>\n",
       "      <td>42</td>\n",
       "    </tr>\n",
       "    <tr>\n",
       "      <th>3</th>\n",
       "      <td>2024</td>\n",
       "      <td>4</td>\n",
       "      <td>Fortaleza</td>\n",
       "      <td>38</td>\n",
       "      <td>19</td>\n",
       "      <td>11</td>\n",
       "      <td>8</td>\n",
       "      <td>53:39</td>\n",
       "      <td>14</td>\n",
       "      <td>68</td>\n",
       "      <td>53</td>\n",
       "      <td>39</td>\n",
       "    </tr>\n",
       "    <tr>\n",
       "      <th>4</th>\n",
       "      <td>2024</td>\n",
       "      <td>5</td>\n",
       "      <td>Internacional</td>\n",
       "      <td>38</td>\n",
       "      <td>18</td>\n",
       "      <td>11</td>\n",
       "      <td>9</td>\n",
       "      <td>53:36</td>\n",
       "      <td>17</td>\n",
       "      <td>65</td>\n",
       "      <td>53</td>\n",
       "      <td>36</td>\n",
       "    </tr>\n",
       "  </tbody>\n",
       "</table>\n",
       "</div>"
      ],
      "text/plain": [
       "    Ano Posicao           Nome Jogos Vitorias Empates Derrotas   Gols  SG  \\\n",
       "0  2024     1         Botafogo    38       23      10        5  59:29  30   \n",
       "1  2024     2        Palmeiras    38       22       7        9  60:33  27   \n",
       "2  2024     3         Flamengo    38       20      10        8  61:42  19   \n",
       "3  2024     4        Fortaleza    38       19      11        8  53:39  14   \n",
       "4  2024     5    Internacional    38       18      11        9  53:36  17   \n",
       "\n",
       "  Pontos  GP  GC  \n",
       "0     79  59  29  \n",
       "1     73  60  33  \n",
       "2     70  61  42  \n",
       "3     68  53  39  \n",
       "4     65  53  36  "
      ]
     },
     "execution_count": 15,
     "metadata": {},
     "output_type": "execute_result"
    }
   ],
   "source": [
    "df_brasileirao[[\"GP\", \"GC\"]] = df_brasileirao[\"Gols\"].str.split(':', expand=True).astype(int)\n",
    "df_brasileirao.head()"
   ]
  },
  {
   "cell_type": "markdown",
   "metadata": {},
   "source": [
    "Retirando colunas desnecessárias"
   ]
  },
  {
   "cell_type": "code",
   "execution_count": 18,
   "metadata": {},
   "outputs": [
    {
     "data": {
      "text/html": [
       "<div>\n",
       "<style scoped>\n",
       "    .dataframe tbody tr th:only-of-type {\n",
       "        vertical-align: middle;\n",
       "    }\n",
       "\n",
       "    .dataframe tbody tr th {\n",
       "        vertical-align: top;\n",
       "    }\n",
       "\n",
       "    .dataframe thead th {\n",
       "        text-align: right;\n",
       "    }\n",
       "</style>\n",
       "<table border=\"1\" class=\"dataframe\">\n",
       "  <thead>\n",
       "    <tr style=\"text-align: right;\">\n",
       "      <th></th>\n",
       "      <th>Ano</th>\n",
       "      <th>Jogos</th>\n",
       "      <th>Vitorias</th>\n",
       "      <th>Empates</th>\n",
       "      <th>Derrotas</th>\n",
       "      <th>SG</th>\n",
       "      <th>Pontos</th>\n",
       "      <th>GP</th>\n",
       "      <th>GC</th>\n",
       "    </tr>\n",
       "  </thead>\n",
       "  <tbody>\n",
       "    <tr>\n",
       "      <th>0</th>\n",
       "      <td>2024</td>\n",
       "      <td>38</td>\n",
       "      <td>23</td>\n",
       "      <td>10</td>\n",
       "      <td>5</td>\n",
       "      <td>30</td>\n",
       "      <td>79</td>\n",
       "      <td>59</td>\n",
       "      <td>29</td>\n",
       "    </tr>\n",
       "    <tr>\n",
       "      <th>1</th>\n",
       "      <td>2024</td>\n",
       "      <td>38</td>\n",
       "      <td>22</td>\n",
       "      <td>7</td>\n",
       "      <td>9</td>\n",
       "      <td>27</td>\n",
       "      <td>73</td>\n",
       "      <td>60</td>\n",
       "      <td>33</td>\n",
       "    </tr>\n",
       "    <tr>\n",
       "      <th>2</th>\n",
       "      <td>2024</td>\n",
       "      <td>38</td>\n",
       "      <td>20</td>\n",
       "      <td>10</td>\n",
       "      <td>8</td>\n",
       "      <td>19</td>\n",
       "      <td>70</td>\n",
       "      <td>61</td>\n",
       "      <td>42</td>\n",
       "    </tr>\n",
       "    <tr>\n",
       "      <th>3</th>\n",
       "      <td>2024</td>\n",
       "      <td>38</td>\n",
       "      <td>19</td>\n",
       "      <td>11</td>\n",
       "      <td>8</td>\n",
       "      <td>14</td>\n",
       "      <td>68</td>\n",
       "      <td>53</td>\n",
       "      <td>39</td>\n",
       "    </tr>\n",
       "    <tr>\n",
       "      <th>4</th>\n",
       "      <td>2024</td>\n",
       "      <td>38</td>\n",
       "      <td>18</td>\n",
       "      <td>11</td>\n",
       "      <td>9</td>\n",
       "      <td>17</td>\n",
       "      <td>65</td>\n",
       "      <td>53</td>\n",
       "      <td>36</td>\n",
       "    </tr>\n",
       "  </tbody>\n",
       "</table>\n",
       "</div>"
      ],
      "text/plain": [
       "    Ano Jogos Vitorias Empates Derrotas  SG Pontos  GP  GC\n",
       "0  2024    38       23      10        5  30     79  59  29\n",
       "1  2024    38       22       7        9  27     73  60  33\n",
       "2  2024    38       20      10        8  19     70  61  42\n",
       "3  2024    38       19      11        8  14     68  53  39\n",
       "4  2024    38       18      11        9  17     65  53  36"
      ]
     },
     "execution_count": 18,
     "metadata": {},
     "output_type": "execute_result"
    }
   ],
   "source": [
    "new_df_brasileirao = df_brasileirao.drop(columns=[\"Posicao\", \"Nome\", \"Gols\"], inplace=False)\n",
    "new_df_brasileirao.head()"
   ]
  },
  {
   "cell_type": "markdown",
   "metadata": {},
   "source": [
    "### Copa do Brasil"
   ]
  },
  {
   "cell_type": "code",
   "execution_count": 14,
   "metadata": {},
   "outputs": [
    {
     "data": {
      "text/html": [
       "<div>\n",
       "<style scoped>\n",
       "    .dataframe tbody tr th:only-of-type {\n",
       "        vertical-align: middle;\n",
       "    }\n",
       "\n",
       "    .dataframe tbody tr th {\n",
       "        vertical-align: top;\n",
       "    }\n",
       "\n",
       "    .dataframe thead th {\n",
       "        text-align: right;\n",
       "    }\n",
       "</style>\n",
       "<table border=\"1\" class=\"dataframe\">\n",
       "  <thead>\n",
       "    <tr style=\"text-align: right;\">\n",
       "      <th></th>\n",
       "      <th>Ano</th>\n",
       "      <th>Fase</th>\n",
       "      <th>TimeCasa</th>\n",
       "      <th>Placar</th>\n",
       "      <th>TimeFora</th>\n",
       "    </tr>\n",
       "  </thead>\n",
       "  <tbody>\n",
       "    <tr>\n",
       "      <th>0</th>\n",
       "      <td>2024</td>\n",
       "      <td>1ª eliminatória</td>\n",
       "      <td>Porto Velho</td>\n",
       "      <td>1:0</td>\n",
       "      <td>Remo</td>\n",
       "    </tr>\n",
       "    <tr>\n",
       "      <th>1</th>\n",
       "      <td>2024</td>\n",
       "      <td>1ª eliminatória</td>\n",
       "      <td>Nova Venécia</td>\n",
       "      <td>1:2</td>\n",
       "      <td>Botafogo-SP</td>\n",
       "    </tr>\n",
       "    <tr>\n",
       "      <th>2</th>\n",
       "      <td>2024</td>\n",
       "      <td>1ª eliminatória</td>\n",
       "      <td>Real Brasília</td>\n",
       "      <td>2:1</td>\n",
       "      <td>São Raimundo-RR</td>\n",
       "    </tr>\n",
       "    <tr>\n",
       "      <th>3</th>\n",
       "      <td>2024</td>\n",
       "      <td>1ª eliminatória</td>\n",
       "      <td>River-PI</td>\n",
       "      <td>1:1</td>\n",
       "      <td>Ypiranga-RS</td>\n",
       "    </tr>\n",
       "    <tr>\n",
       "      <th>4</th>\n",
       "      <td>2024</td>\n",
       "      <td>1ª eliminatória</td>\n",
       "      <td>Manauara</td>\n",
       "      <td>1:2</td>\n",
       "      <td>Retrô</td>\n",
       "    </tr>\n",
       "  </tbody>\n",
       "</table>\n",
       "</div>"
      ],
      "text/plain": [
       "    Ano             Fase       TimeCasa Placar         TimeFora\n",
       "0  2024  1ª eliminatória    Porto Velho    1:0             Remo\n",
       "1  2024  1ª eliminatória   Nova Venécia    1:2      Botafogo-SP\n",
       "2  2024  1ª eliminatória  Real Brasília    2:1  São Raimundo-RR\n",
       "3  2024  1ª eliminatória       River-PI    1:1      Ypiranga-RS\n",
       "4  2024  1ª eliminatória       Manauara    1:2            Retrô"
      ]
     },
     "execution_count": 14,
     "metadata": {},
     "output_type": "execute_result"
    }
   ],
   "source": [
    "df_copa_do_brasil.head()"
   ]
  },
  {
   "cell_type": "markdown",
   "metadata": {},
   "source": [
    "## Resultados"
   ]
  },
  {
   "cell_type": "markdown",
   "metadata": {},
   "source": [
    "## Conclusões e Discussões"
   ]
  }
 ],
 "metadata": {
  "kernelspec": {
   "display_name": "ds",
   "language": "python",
   "name": "python3"
  },
  "language_info": {
   "codemirror_mode": {
    "name": "ipython",
    "version": 3
   },
   "file_extension": ".py",
   "mimetype": "text/x-python",
   "name": "python",
   "nbconvert_exporter": "python",
   "pygments_lexer": "ipython3",
   "version": "3.13.2"
  }
 },
 "nbformat": 4,
 "nbformat_minor": 2
}
