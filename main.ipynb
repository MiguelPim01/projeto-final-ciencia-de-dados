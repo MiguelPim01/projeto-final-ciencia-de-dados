{
 "cells": [
  {
   "cell_type": "markdown",
   "metadata": {},
   "source": [
    "# Projeto Final de Ciência de Dados"
   ]
  },
  {
   "cell_type": "markdown",
   "metadata": {},
   "source": [
    "## Bibliotecas"
   ]
  },
  {
   "cell_type": "code",
   "execution_count": 2,
   "metadata": {},
   "outputs": [],
   "source": [
    "import pandas as pd\n",
    "import seaborn as sns\n",
    "import matplotlib.pyplot as plt"
   ]
  },
  {
   "cell_type": "markdown",
   "metadata": {},
   "source": [
    "## Introdução"
   ]
  },
  {
   "cell_type": "markdown",
   "metadata": {},
   "source": [
    "Nome dos integrantes:\n",
    "\n",
    "- **Nome**: Alan Teixeira da Costa, **Matrícula**: 2022100890, **E-mail**: alan.costa@edu.ufes.br\n",
    "- **Nome**: Miguel Vieira Machado Pim, **Matrícula**: 2022100894, **E-mail**: miguel.pim@edu.ufes.br"
   ]
  },
  {
   "cell_type": "markdown",
   "metadata": {},
   "source": [
    "O objetivo geral deste projeto final é praticar os conceitos estudados durante toda a disciplina de Introdução a Ciência de Dados, principalmente: web scraping e aprendizado supervisionado. Para isso iremos fazer scraping do site https://www.transfermarkt.com.br/ para poder prever resultados de partidas de futebol a partir de dados da premier league e do brasileirão."
   ]
  },
  {
   "cell_type": "markdown",
   "metadata": {},
   "source": [
    "## Descrição de Problema"
   ]
  },
  {
   "cell_type": "markdown",
   "metadata": {},
   "source": [
    "Nosso problema consiste em construir um classificador capaz de prever resultados de partidas de futebol. Este classificador deverá classificar uma partida entre três possíveis resultados: vitória do time da casa, derrota do time da casa ou empate."
   ]
  },
  {
   "cell_type": "markdown",
   "metadata": {},
   "source": [
    "## Descrição do Conjunto de Dados"
   ]
  },
  {
   "cell_type": "markdown",
   "metadata": {},
   "source": [
    "Para este projeto utilizaremos um conjunto de dados de partidas de futebol. Os dados foram obtidos utilizando web scraping para buscar partidas de ligas. O código do scraping pode ser visto no repositório https://github.com/Alan-TC/Scraper-T2-CienciaDeDados. Vale ressaltar que utilizamos apenas os dados de partidas de ligas desse repositório. No [script_concatenação](./pre_processer.ipynb) foi feito a transformação de todos os dataframes em apenas um."
   ]
  },
  {
   "cell_type": "markdown",
   "metadata": {},
   "source": [
    "Os dados estão organizados em um arquivo (```partidas.csv```) com as seguintes colunas:  \n",
    "\n",
    "Colunas com informações sobre a partida, indepedente do time:  \n",
    "- **capacidade_estadio**: Capacidade do estádio do time da casa (```int```)\n",
    "- **publico_estadio**: Público total que compareceu ao jogo (```int```)\n",
    "- **ano**: Ano em que o jogo aconteceu (```int```)\n",
    "- **fase**: Rodada da liga em que o jogo aconteceu (```str```)  \n",
    "\n",
    "Colunas com informações sobre os times. No arquivo, para cada coluna com \"casa\" no nome também existe uma coluna com \"fora\" no nome, que foram omitidas por terem características iguais:\n",
    "- **time_casa**: Nome do time da casa (```str```)\n",
    "- **gols_casa**: Quantidade de gols do time da casa (```int```)\n",
    "- **posse_casa**: Quantidade de posse de bola do time da casa em porcentagem (```int```)\n",
    "- **tentativas_casa**: Quantidade de chutes do time da casa (```int```)\n",
    "- **chutes_fora_casa**: Quantidade de chutes pra fora do gol da casa (```int```)\n",
    "- **defesa_casa**: Quantidade de defesas do goleiro do time da casa (```int```)\n",
    "- **escanteios_casa**: Quantidade de escanteios do time da casa (```int```)\n",
    "- **cobrancas_falta_casa**: Quantidade de cobranças de falta do time da casa (```int```)\n",
    "- **faltas_cometidas_casa**: Quantidade de faltas cometidas pelo time da casa (```int```)\n",
    "- **impedimentos_casa**: Quantidade de impedimentos do time da casa (```int```)"
   ]
  },
  {
   "cell_type": "markdown",
   "metadata": {},
   "source": [
    "Portanto, no total temos 24 colunas do nosso dataframe."
   ]
  },
  {
   "cell_type": "code",
   "execution_count": 3,
   "metadata": {},
   "outputs": [
    {
     "data": {
      "text/html": [
       "<div>\n",
       "<style scoped>\n",
       "    .dataframe tbody tr th:only-of-type {\n",
       "        vertical-align: middle;\n",
       "    }\n",
       "\n",
       "    .dataframe tbody tr th {\n",
       "        vertical-align: top;\n",
       "    }\n",
       "\n",
       "    .dataframe thead th {\n",
       "        text-align: right;\n",
       "    }\n",
       "</style>\n",
       "<table border=\"1\" class=\"dataframe\">\n",
       "  <thead>\n",
       "    <tr style=\"text-align: right;\">\n",
       "      <th></th>\n",
       "      <th>capacidade_estadio</th>\n",
       "      <th>publico_estadio</th>\n",
       "      <th>time_casa</th>\n",
       "      <th>gols_casa</th>\n",
       "      <th>posse_casa</th>\n",
       "      <th>tentativas_casa</th>\n",
       "      <th>chutes_fora_casa</th>\n",
       "      <th>defesa_casa</th>\n",
       "      <th>escanteios_casa</th>\n",
       "      <th>cobrancas_falta_casa</th>\n",
       "      <th>...</th>\n",
       "      <th>posse_fora</th>\n",
       "      <th>tentativas_fora</th>\n",
       "      <th>chutes_fora_fora</th>\n",
       "      <th>defesa_fora</th>\n",
       "      <th>escanteios_fora</th>\n",
       "      <th>cobrancas_falta_fora</th>\n",
       "      <th>faltas_cometidas_fora</th>\n",
       "      <th>impedimentos_fora</th>\n",
       "      <th>ano</th>\n",
       "      <th>fase</th>\n",
       "    </tr>\n",
       "  </thead>\n",
       "  <tbody>\n",
       "    <tr>\n",
       "      <th>0</th>\n",
       "      <td>26047</td>\n",
       "      <td>0</td>\n",
       "      <td>Crystal Palace FC</td>\n",
       "      <td>1</td>\n",
       "      <td>30</td>\n",
       "      <td>5</td>\n",
       "      <td>2</td>\n",
       "      <td>5</td>\n",
       "      <td>7</td>\n",
       "      <td>10</td>\n",
       "      <td>...</td>\n",
       "      <td>70</td>\n",
       "      <td>9</td>\n",
       "      <td>3</td>\n",
       "      <td>2</td>\n",
       "      <td>3</td>\n",
       "      <td>14</td>\n",
       "      <td>11</td>\n",
       "      <td>0</td>\n",
       "      <td>2021</td>\n",
       "      <td>1.Rodada</td>\n",
       "    </tr>\n",
       "    <tr>\n",
       "      <th>1</th>\n",
       "      <td>54074</td>\n",
       "      <td>0</td>\n",
       "      <td>FC Liverpool</td>\n",
       "      <td>4</td>\n",
       "      <td>49</td>\n",
       "      <td>22</td>\n",
       "      <td>3</td>\n",
       "      <td>0</td>\n",
       "      <td>9</td>\n",
       "      <td>5</td>\n",
       "      <td>...</td>\n",
       "      <td>51</td>\n",
       "      <td>6</td>\n",
       "      <td>1</td>\n",
       "      <td>3</td>\n",
       "      <td>0</td>\n",
       "      <td>9</td>\n",
       "      <td>6</td>\n",
       "      <td>5</td>\n",
       "      <td>2021</td>\n",
       "      <td>1.Rodada</td>\n",
       "    </tr>\n",
       "    <tr>\n",
       "      <th>2</th>\n",
       "      <td>60000</td>\n",
       "      <td>0</td>\n",
       "      <td>West Ham United</td>\n",
       "      <td>0</td>\n",
       "      <td>58</td>\n",
       "      <td>15</td>\n",
       "      <td>5</td>\n",
       "      <td>0</td>\n",
       "      <td>8</td>\n",
       "      <td>7</td>\n",
       "      <td>...</td>\n",
       "      <td>42</td>\n",
       "      <td>15</td>\n",
       "      <td>7</td>\n",
       "      <td>3</td>\n",
       "      <td>7</td>\n",
       "      <td>11</td>\n",
       "      <td>7</td>\n",
       "      <td>4</td>\n",
       "      <td>2021</td>\n",
       "      <td>1.Rodada</td>\n",
       "    </tr>\n",
       "    <tr>\n",
       "      <th>3</th>\n",
       "      <td>2685</td>\n",
       "      <td>0</td>\n",
       "      <td>West Bromwich Albion</td>\n",
       "      <td>0</td>\n",
       "      <td>37</td>\n",
       "      <td>7</td>\n",
       "      <td>3</td>\n",
       "      <td>4</td>\n",
       "      <td>2</td>\n",
       "      <td>9</td>\n",
       "      <td>...</td>\n",
       "      <td>63</td>\n",
       "      <td>13</td>\n",
       "      <td>3</td>\n",
       "      <td>1</td>\n",
       "      <td>5</td>\n",
       "      <td>11</td>\n",
       "      <td>9</td>\n",
       "      <td>3</td>\n",
       "      <td>2021</td>\n",
       "      <td>1.Rodada</td>\n",
       "    </tr>\n",
       "    <tr>\n",
       "      <th>4</th>\n",
       "      <td>62062</td>\n",
       "      <td>0</td>\n",
       "      <td>Tottenham Hotspur</td>\n",
       "      <td>0</td>\n",
       "      <td>51</td>\n",
       "      <td>9</td>\n",
       "      <td>1</td>\n",
       "      <td>3</td>\n",
       "      <td>5</td>\n",
       "      <td>6</td>\n",
       "      <td>...</td>\n",
       "      <td>49</td>\n",
       "      <td>15</td>\n",
       "      <td>7</td>\n",
       "      <td>5</td>\n",
       "      <td>3</td>\n",
       "      <td>14</td>\n",
       "      <td>7</td>\n",
       "      <td>1</td>\n",
       "      <td>2021</td>\n",
       "      <td>1.Rodada</td>\n",
       "    </tr>\n",
       "  </tbody>\n",
       "</table>\n",
       "<p>5 rows × 24 columns</p>\n",
       "</div>"
      ],
      "text/plain": [
       "   capacidade_estadio  publico_estadio             time_casa  gols_casa  \\\n",
       "0               26047                0     Crystal Palace FC          1   \n",
       "1               54074                0          FC Liverpool          4   \n",
       "2               60000                0       West Ham United          0   \n",
       "3                2685                0  West Bromwich Albion          0   \n",
       "4               62062                0     Tottenham Hotspur          0   \n",
       "\n",
       "   posse_casa  tentativas_casa  chutes_fora_casa  defesa_casa  \\\n",
       "0          30                5                 2            5   \n",
       "1          49               22                 3            0   \n",
       "2          58               15                 5            0   \n",
       "3          37                7                 3            4   \n",
       "4          51                9                 1            3   \n",
       "\n",
       "   escanteios_casa  cobrancas_falta_casa  ...  posse_fora  tentativas_fora  \\\n",
       "0                7                    10  ...          70                9   \n",
       "1                9                     5  ...          51                6   \n",
       "2                8                     7  ...          42               15   \n",
       "3                2                     9  ...          63               13   \n",
       "4                5                     6  ...          49               15   \n",
       "\n",
       "  chutes_fora_fora  defesa_fora  escanteios_fora  cobrancas_falta_fora  \\\n",
       "0                3            2                3                    14   \n",
       "1                1            3                0                     9   \n",
       "2                7            3                7                    11   \n",
       "3                3            1                5                    11   \n",
       "4                7            5                3                    14   \n",
       "\n",
       "   faltas_cometidas_fora  impedimentos_fora   ano      fase  \n",
       "0                     11                  0  2021  1.Rodada  \n",
       "1                      6                  5  2021  1.Rodada  \n",
       "2                      7                  4  2021  1.Rodada  \n",
       "3                      9                  3  2021  1.Rodada  \n",
       "4                      7                  1  2021  1.Rodada  \n",
       "\n",
       "[5 rows x 24 columns]"
      ]
     },
     "execution_count": 3,
     "metadata": {},
     "output_type": "execute_result"
    }
   ],
   "source": [
    "partidas_df = pd.read_csv(\"partidas.csv\")\n",
    "partidas_df.head()"
   ]
  },
  {
   "cell_type": "markdown",
   "metadata": {},
   "source": [
    "## Metodologia"
   ]
  },
  {
   "cell_type": "markdown",
   "metadata": {},
   "source": [
    "Para atingir o objetivo proposto utilizaremos os seguintes passos:  \n",
    "\n",
    "- Pré-processamento dos dados (retirar colunas desnecessárias dos dados e adicionar a coluna com as labels).\n",
    "- Aplicação de ao menos dois algoritmos de aprendizado supervisionado vistos em aula.\n",
    "- Validação da metodologia utilizada.\n",
    "- Interpretação dos resultados."
   ]
  },
  {
   "cell_type": "markdown",
   "metadata": {},
   "source": [
    "## Pré-processamento"
   ]
  },
  {
   "cell_type": "markdown",
   "metadata": {},
   "source": [
    "### Adicionando coluna label"
   ]
  },
  {
   "cell_type": "markdown",
   "metadata": {},
   "source": [
    "Os valores dos labels serão:  \n",
    "\n",
    "- **0**: Vitória do time da casa\n",
    "- **1**: Empate\n",
    "- **2**: Derrota do time da casa"
   ]
  },
  {
   "cell_type": "code",
   "execution_count": 4,
   "metadata": {},
   "outputs": [],
   "source": [
    "def add_label_column(row):\n",
    "    if (row[\"gols_casa\"] > row[\"gols_fora\"]):\n",
    "        return 0\n",
    "    elif (row[\"gols_casa\"] < row[\"gols_fora\"]):\n",
    "        return 1\n",
    "    else:\n",
    "        return 2"
   ]
  },
  {
   "cell_type": "code",
   "execution_count": 5,
   "metadata": {},
   "outputs": [
    {
     "data": {
      "text/html": [
       "<div>\n",
       "<style scoped>\n",
       "    .dataframe tbody tr th:only-of-type {\n",
       "        vertical-align: middle;\n",
       "    }\n",
       "\n",
       "    .dataframe tbody tr th {\n",
       "        vertical-align: top;\n",
       "    }\n",
       "\n",
       "    .dataframe thead th {\n",
       "        text-align: right;\n",
       "    }\n",
       "</style>\n",
       "<table border=\"1\" class=\"dataframe\">\n",
       "  <thead>\n",
       "    <tr style=\"text-align: right;\">\n",
       "      <th></th>\n",
       "      <th>gols_casa</th>\n",
       "      <th>gols_fora</th>\n",
       "      <th>label</th>\n",
       "    </tr>\n",
       "  </thead>\n",
       "  <tbody>\n",
       "    <tr>\n",
       "      <th>0</th>\n",
       "      <td>1</td>\n",
       "      <td>0</td>\n",
       "      <td>0</td>\n",
       "    </tr>\n",
       "    <tr>\n",
       "      <th>1</th>\n",
       "      <td>4</td>\n",
       "      <td>3</td>\n",
       "      <td>0</td>\n",
       "    </tr>\n",
       "    <tr>\n",
       "      <th>2</th>\n",
       "      <td>0</td>\n",
       "      <td>2</td>\n",
       "      <td>1</td>\n",
       "    </tr>\n",
       "    <tr>\n",
       "      <th>3</th>\n",
       "      <td>0</td>\n",
       "      <td>3</td>\n",
       "      <td>1</td>\n",
       "    </tr>\n",
       "    <tr>\n",
       "      <th>4</th>\n",
       "      <td>0</td>\n",
       "      <td>1</td>\n",
       "      <td>1</td>\n",
       "    </tr>\n",
       "  </tbody>\n",
       "</table>\n",
       "</div>"
      ],
      "text/plain": [
       "   gols_casa  gols_fora  label\n",
       "0          1          0      0\n",
       "1          4          3      0\n",
       "2          0          2      1\n",
       "3          0          3      1\n",
       "4          0          1      1"
      ]
     },
     "execution_count": 5,
     "metadata": {},
     "output_type": "execute_result"
    }
   ],
   "source": [
    "partidas_df[\"label\"] = partidas_df.apply(add_label_column, axis=1)\n",
    "partidas_df[[\"gols_casa\", \"gols_fora\", \"label\"]].head()"
   ]
  },
  {
   "cell_type": "markdown",
   "metadata": {},
   "source": [
    "### Transformando coluna da fase"
   ]
  },
  {
   "cell_type": "code",
   "execution_count": 6,
   "metadata": {},
   "outputs": [
    {
     "data": {
      "text/plain": [
       "0    1\n",
       "1    1\n",
       "2    1\n",
       "3    1\n",
       "4    1\n",
       "Name: fase, dtype: int64"
      ]
     },
     "execution_count": 6,
     "metadata": {},
     "output_type": "execute_result"
    }
   ],
   "source": [
    "partidas_df[\"fase\"] = list(map(lambda x : int(x.split('.')[0]), partidas_df[\"fase\"]))\n",
    "partidas_df[\"fase\"].head()"
   ]
  },
  {
   "cell_type": "markdown",
   "metadata": {},
   "source": [
    "### Retirando colunas desnecessárias"
   ]
  },
  {
   "cell_type": "code",
   "execution_count": 7,
   "metadata": {},
   "outputs": [
    {
     "data": {
      "text/html": [
       "<div>\n",
       "<style scoped>\n",
       "    .dataframe tbody tr th:only-of-type {\n",
       "        vertical-align: middle;\n",
       "    }\n",
       "\n",
       "    .dataframe tbody tr th {\n",
       "        vertical-align: top;\n",
       "    }\n",
       "\n",
       "    .dataframe thead th {\n",
       "        text-align: right;\n",
       "    }\n",
       "</style>\n",
       "<table border=\"1\" class=\"dataframe\">\n",
       "  <thead>\n",
       "    <tr style=\"text-align: right;\">\n",
       "      <th></th>\n",
       "      <th>capacidade_estadio</th>\n",
       "      <th>publico_estadio</th>\n",
       "      <th>posse_casa</th>\n",
       "      <th>tentativas_casa</th>\n",
       "      <th>chutes_fora_casa</th>\n",
       "      <th>defesa_casa</th>\n",
       "      <th>escanteios_casa</th>\n",
       "      <th>cobrancas_falta_casa</th>\n",
       "      <th>faltas_cometidas_casa</th>\n",
       "      <th>impedimentos_casa</th>\n",
       "      <th>...</th>\n",
       "      <th>tentativas_fora</th>\n",
       "      <th>chutes_fora_fora</th>\n",
       "      <th>defesa_fora</th>\n",
       "      <th>escanteios_fora</th>\n",
       "      <th>cobrancas_falta_fora</th>\n",
       "      <th>faltas_cometidas_fora</th>\n",
       "      <th>impedimentos_fora</th>\n",
       "      <th>ano</th>\n",
       "      <th>fase</th>\n",
       "      <th>label</th>\n",
       "    </tr>\n",
       "  </thead>\n",
       "  <tbody>\n",
       "    <tr>\n",
       "      <th>0</th>\n",
       "      <td>26047</td>\n",
       "      <td>0</td>\n",
       "      <td>30</td>\n",
       "      <td>5</td>\n",
       "      <td>2</td>\n",
       "      <td>5</td>\n",
       "      <td>7</td>\n",
       "      <td>10</td>\n",
       "      <td>14</td>\n",
       "      <td>4</td>\n",
       "      <td>...</td>\n",
       "      <td>9</td>\n",
       "      <td>3</td>\n",
       "      <td>2</td>\n",
       "      <td>3</td>\n",
       "      <td>14</td>\n",
       "      <td>11</td>\n",
       "      <td>0</td>\n",
       "      <td>2021</td>\n",
       "      <td>1</td>\n",
       "      <td>0</td>\n",
       "    </tr>\n",
       "    <tr>\n",
       "      <th>1</th>\n",
       "      <td>54074</td>\n",
       "      <td>0</td>\n",
       "      <td>49</td>\n",
       "      <td>22</td>\n",
       "      <td>3</td>\n",
       "      <td>0</td>\n",
       "      <td>9</td>\n",
       "      <td>5</td>\n",
       "      <td>9</td>\n",
       "      <td>2</td>\n",
       "      <td>...</td>\n",
       "      <td>6</td>\n",
       "      <td>1</td>\n",
       "      <td>3</td>\n",
       "      <td>0</td>\n",
       "      <td>9</td>\n",
       "      <td>6</td>\n",
       "      <td>5</td>\n",
       "      <td>2021</td>\n",
       "      <td>1</td>\n",
       "      <td>0</td>\n",
       "    </tr>\n",
       "    <tr>\n",
       "      <th>2</th>\n",
       "      <td>60000</td>\n",
       "      <td>0</td>\n",
       "      <td>58</td>\n",
       "      <td>15</td>\n",
       "      <td>5</td>\n",
       "      <td>0</td>\n",
       "      <td>8</td>\n",
       "      <td>7</td>\n",
       "      <td>13</td>\n",
       "      <td>2</td>\n",
       "      <td>...</td>\n",
       "      <td>15</td>\n",
       "      <td>7</td>\n",
       "      <td>3</td>\n",
       "      <td>7</td>\n",
       "      <td>11</td>\n",
       "      <td>7</td>\n",
       "      <td>4</td>\n",
       "      <td>2021</td>\n",
       "      <td>1</td>\n",
       "      <td>1</td>\n",
       "    </tr>\n",
       "    <tr>\n",
       "      <th>3</th>\n",
       "      <td>2685</td>\n",
       "      <td>0</td>\n",
       "      <td>37</td>\n",
       "      <td>7</td>\n",
       "      <td>3</td>\n",
       "      <td>4</td>\n",
       "      <td>2</td>\n",
       "      <td>9</td>\n",
       "      <td>12</td>\n",
       "      <td>4</td>\n",
       "      <td>...</td>\n",
       "      <td>13</td>\n",
       "      <td>3</td>\n",
       "      <td>1</td>\n",
       "      <td>5</td>\n",
       "      <td>11</td>\n",
       "      <td>9</td>\n",
       "      <td>3</td>\n",
       "      <td>2021</td>\n",
       "      <td>1</td>\n",
       "      <td>1</td>\n",
       "    </tr>\n",
       "    <tr>\n",
       "      <th>4</th>\n",
       "      <td>62062</td>\n",
       "      <td>0</td>\n",
       "      <td>51</td>\n",
       "      <td>9</td>\n",
       "      <td>1</td>\n",
       "      <td>3</td>\n",
       "      <td>5</td>\n",
       "      <td>6</td>\n",
       "      <td>15</td>\n",
       "      <td>0</td>\n",
       "      <td>...</td>\n",
       "      <td>15</td>\n",
       "      <td>7</td>\n",
       "      <td>5</td>\n",
       "      <td>3</td>\n",
       "      <td>14</td>\n",
       "      <td>7</td>\n",
       "      <td>1</td>\n",
       "      <td>2021</td>\n",
       "      <td>1</td>\n",
       "      <td>1</td>\n",
       "    </tr>\n",
       "  </tbody>\n",
       "</table>\n",
       "<p>5 rows × 21 columns</p>\n",
       "</div>"
      ],
      "text/plain": [
       "   capacidade_estadio  publico_estadio  posse_casa  tentativas_casa  \\\n",
       "0               26047                0          30                5   \n",
       "1               54074                0          49               22   \n",
       "2               60000                0          58               15   \n",
       "3                2685                0          37                7   \n",
       "4               62062                0          51                9   \n",
       "\n",
       "   chutes_fora_casa  defesa_casa  escanteios_casa  cobrancas_falta_casa  \\\n",
       "0                 2            5                7                    10   \n",
       "1                 3            0                9                     5   \n",
       "2                 5            0                8                     7   \n",
       "3                 3            4                2                     9   \n",
       "4                 1            3                5                     6   \n",
       "\n",
       "   faltas_cometidas_casa  impedimentos_casa  ...  tentativas_fora  \\\n",
       "0                     14                  4  ...                9   \n",
       "1                      9                  2  ...                6   \n",
       "2                     13                  2  ...               15   \n",
       "3                     12                  4  ...               13   \n",
       "4                     15                  0  ...               15   \n",
       "\n",
       "   chutes_fora_fora  defesa_fora  escanteios_fora  cobrancas_falta_fora  \\\n",
       "0                 3            2                3                    14   \n",
       "1                 1            3                0                     9   \n",
       "2                 7            3                7                    11   \n",
       "3                 3            1                5                    11   \n",
       "4                 7            5                3                    14   \n",
       "\n",
       "   faltas_cometidas_fora  impedimentos_fora   ano  fase  label  \n",
       "0                     11                  0  2021     1      0  \n",
       "1                      6                  5  2021     1      0  \n",
       "2                      7                  4  2021     1      1  \n",
       "3                      9                  3  2021     1      1  \n",
       "4                      7                  1  2021     1      1  \n",
       "\n",
       "[5 rows x 21 columns]"
      ]
     },
     "execution_count": 7,
     "metadata": {},
     "output_type": "execute_result"
    }
   ],
   "source": [
    "partidas_df.drop(columns=[\"time_casa\", \"time_fora\", \"gols_casa\", \"gols_fora\"], inplace=True)\n",
    "partidas_df.head()"
   ]
  },
  {
   "cell_type": "markdown",
   "metadata": {},
   "source": [
    "## Aplicando algoritmos de classificação"
   ]
  },
  {
   "cell_type": "code",
   "execution_count": null,
   "metadata": {},
   "outputs": [],
   "source": []
  },
  {
   "cell_type": "markdown",
   "metadata": {},
   "source": [
    "## Resultados"
   ]
  },
  {
   "cell_type": "markdown",
   "metadata": {},
   "source": [
    "## Conclusões e Discussões"
   ]
  }
 ],
 "metadata": {
  "kernelspec": {
   "display_name": "ds",
   "language": "python",
   "name": "python3"
  },
  "language_info": {
   "codemirror_mode": {
    "name": "ipython",
    "version": 3
   },
   "file_extension": ".py",
   "mimetype": "text/x-python",
   "name": "python",
   "nbconvert_exporter": "python",
   "pygments_lexer": "ipython3",
   "version": "3.13.2"
  }
 },
 "nbformat": 4,
 "nbformat_minor": 2
}
