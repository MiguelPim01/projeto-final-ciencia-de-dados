{
 "cells": [
  {
   "cell_type": "markdown",
   "metadata": {},
   "source": [
    "# Concatenando dataframes"
   ]
  },
  {
   "cell_type": "code",
   "execution_count": 8,
   "metadata": {},
   "outputs": [],
   "source": [
    "import pandas as pd"
   ]
  },
  {
   "cell_type": "code",
   "execution_count": 9,
   "metadata": {},
   "outputs": [],
   "source": [
    "pl_2021_df = pd.read_csv(\"dados/premierleague_partidas/partidas_2021.csv\")\n",
    "pl_2022_df = pd.read_csv(\"dados/premierleague_partidas/partidas_2022.csv\")\n",
    "pl_2023_df = pd.read_csv(\"dados/premierleague_partidas/partidas_2023.csv\")\n",
    "\n",
    "bra_2021_df = pd.read_csv(\"dados/brasileirao_partidas/partidas_2021.csv\")\n",
    "bra_2022_df = pd.read_csv(\"dados/brasileirao_partidas/partidas_2022.csv\")\n",
    "bra_2023_df = pd.read_csv(\"dados/brasileirao_partidas/partidas_2023.csv\")\n",
    "bra_2024_df = pd.read_csv(\"dados/brasileirao_partidas/partidas_2024.csv\")"
   ]
  },
  {
   "cell_type": "code",
   "execution_count": 10,
   "metadata": {},
   "outputs": [
    {
     "data": {
      "text/plain": [
       "(2450, 24)"
      ]
     },
     "execution_count": 10,
     "metadata": {},
     "output_type": "execute_result"
    }
   ],
   "source": [
    "final_df = pl_2021_df\n",
    "final_df = pd.concat([final_df, pl_2022_df], ignore_index=True)\n",
    "final_df = pd.concat([final_df, pl_2023_df], ignore_index=True)\n",
    "final_df = pd.concat([final_df, bra_2021_df], ignore_index=True)\n",
    "final_df = pd.concat([final_df, bra_2022_df], ignore_index=True)\n",
    "final_df = pd.concat([final_df, bra_2023_df], ignore_index=True)\n",
    "final_df = pd.concat([final_df, bra_2024_df], ignore_index=True)\n",
    "\n",
    "final_df.shape"
   ]
  },
  {
   "cell_type": "code",
   "execution_count": 17,
   "metadata": {},
   "outputs": [
    {
     "data": {
      "text/plain": [
       "capacidade_estadio                     30.445\n",
       "publico_estadio                        29.435\n",
       "time_casa                   Nottingham Forest\n",
       "gols_casa                                   0\n",
       "posse_casa                                 32\n",
       "tentativas_casa                             6\n",
       "chutes_fora_casa                            4\n",
       "defesa_casa                                 5\n",
       "escanteios_casa                             4\n",
       "cobrancas_falta_casa                        8\n",
       "faltas_cometidas_casa                       9\n",
       "impedimentos_casa                           1\n",
       "time_fora                Manchester United FC\n",
       "gols_fora                                   2\n",
       "posse_fora                                 68\n",
       "tentativas_fora                            22\n",
       "chutes_fora_fora                            9\n",
       "defesa_fora                                 0\n",
       "escanteios_fora                             9\n",
       "cobrancas_falta_fora                        8\n",
       "faltas_cometidas_fora                       9\n",
       "impedimentos_fora                           3\n",
       "ano                                      2023\n",
       "fase                                31.Rodada\n",
       "Name: 1000, dtype: object"
      ]
     },
     "execution_count": 17,
     "metadata": {},
     "output_type": "execute_result"
    }
   ],
   "source": [
    "final_df.iloc[1000]"
   ]
  },
  {
   "cell_type": "code",
   "execution_count": 14,
   "metadata": {},
   "outputs": [
    {
     "data": {
      "text/plain": [
       "capacidade_estadio       float64\n",
       "publico_estadio           object\n",
       "time_casa                 object\n",
       "gols_casa                  int64\n",
       "posse_casa                 int64\n",
       "tentativas_casa            int64\n",
       "chutes_fora_casa           int64\n",
       "defesa_casa                int64\n",
       "escanteios_casa            int64\n",
       "cobrancas_falta_casa       int64\n",
       "faltas_cometidas_casa      int64\n",
       "impedimentos_casa          int64\n",
       "time_fora                 object\n",
       "gols_fora                  int64\n",
       "posse_fora                 int64\n",
       "tentativas_fora            int64\n",
       "chutes_fora_fora           int64\n",
       "defesa_fora                int64\n",
       "escanteios_fora            int64\n",
       "cobrancas_falta_fora       int64\n",
       "faltas_cometidas_fora      int64\n",
       "impedimentos_fora          int64\n",
       "ano                        int64\n",
       "fase                      object\n",
       "dtype: object"
      ]
     },
     "execution_count": 14,
     "metadata": {},
     "output_type": "execute_result"
    }
   ],
   "source": [
    "final_df.dtypes"
   ]
  },
  {
   "cell_type": "code",
   "execution_count": 12,
   "metadata": {},
   "outputs": [],
   "source": [
    "final_df.to_csv(\"partidas.csv\", index=False)"
   ]
  }
 ],
 "metadata": {
  "kernelspec": {
   "display_name": "ds",
   "language": "python",
   "name": "python3"
  },
  "language_info": {
   "codemirror_mode": {
    "name": "ipython",
    "version": 3
   },
   "file_extension": ".py",
   "mimetype": "text/x-python",
   "name": "python",
   "nbconvert_exporter": "python",
   "pygments_lexer": "ipython3",
   "version": "3.13.2"
  }
 },
 "nbformat": 4,
 "nbformat_minor": 2
}
