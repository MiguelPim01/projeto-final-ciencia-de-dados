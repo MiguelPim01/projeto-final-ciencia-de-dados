{
 "cells": [
  {
   "cell_type": "markdown",
   "metadata": {},
   "source": [
    "# Concatenando dataframes"
   ]
  },
  {
   "cell_type": "code",
   "execution_count": 13,
   "metadata": {},
   "outputs": [],
   "source": [
    "import pandas as pd"
   ]
  },
  {
   "cell_type": "code",
   "execution_count": 14,
   "metadata": {},
   "outputs": [],
   "source": [
    "pl_2021_df = pd.read_csv(\"dados/premierleague_partidas/partidas_2021.csv\")\n",
    "pl_2022_df = pd.read_csv(\"dados/premierleague_partidas/partidas_2022.csv\")\n",
    "pl_2023_df = pd.read_csv(\"dados/premierleague_partidas/partidas_2023.csv\")\n",
    "\n",
    "bra_2021_df = pd.read_csv(\"dados/brasileirao_partidas/partidas_2021.csv\")\n",
    "bra_2022_df = pd.read_csv(\"dados/brasileirao_partidas/partidas_2022.csv\")\n",
    "bra_2023_df = pd.read_csv(\"dados/brasileirao_partidas/partidas_2023.csv\")\n",
    "bra_2024_df = pd.read_csv(\"dados/brasileirao_partidas/partidas_2024.csv\")"
   ]
  },
  {
   "cell_type": "code",
   "execution_count": 15,
   "metadata": {},
   "outputs": [
    {
     "data": {
      "text/plain": [
       "(2450, 24)"
      ]
     },
     "execution_count": 15,
     "metadata": {},
     "output_type": "execute_result"
    }
   ],
   "source": [
    "final_df = pl_2021_df\n",
    "final_df = pd.concat([final_df, pl_2022_df], ignore_index=True)\n",
    "final_df = pd.concat([final_df, pl_2023_df], ignore_index=True)\n",
    "final_df = pd.concat([final_df, bra_2021_df], ignore_index=True)\n",
    "final_df = pd.concat([final_df, bra_2022_df], ignore_index=True)\n",
    "final_df = pd.concat([final_df, bra_2023_df], ignore_index=True)\n",
    "final_df = pd.concat([final_df, bra_2024_df], ignore_index=True)\n",
    "\n",
    "final_df.shape"
   ]
  },
  {
   "cell_type": "code",
   "execution_count": 16,
   "metadata": {},
   "outputs": [],
   "source": [
    "final_df[\"publico_estadio\"] = final_df[\"publico_estadio\"].str.split(' ').str[0]"
   ]
  },
  {
   "cell_type": "code",
   "execution_count": 17,
   "metadata": {},
   "outputs": [],
   "source": [
    "final_df[\"publico_estadio\"] = final_df[\"publico_estadio\"].str.replace('.', '')"
   ]
  },
  {
   "cell_type": "code",
   "execution_count": 18,
   "metadata": {},
   "outputs": [],
   "source": [
    "final_df[\"publico_estadio\"] = final_df[\"publico_estadio\"].astype(str).apply(lambda x : x if x.isdigit() else '0').astype(int)"
   ]
  },
  {
   "cell_type": "code",
   "execution_count": 19,
   "metadata": {},
   "outputs": [],
   "source": [
    "final_df[\"capacidade_estadio\"] = final_df[\"capacidade_estadio\"].fillna(0).multiply(1000).round(0).astype(int)"
   ]
  },
  {
   "cell_type": "code",
   "execution_count": 20,
   "metadata": {},
   "outputs": [
    {
     "data": {
      "text/html": [
       "<div>\n",
       "<style scoped>\n",
       "    .dataframe tbody tr th:only-of-type {\n",
       "        vertical-align: middle;\n",
       "    }\n",
       "\n",
       "    .dataframe tbody tr th {\n",
       "        vertical-align: top;\n",
       "    }\n",
       "\n",
       "    .dataframe thead th {\n",
       "        text-align: right;\n",
       "    }\n",
       "</style>\n",
       "<table border=\"1\" class=\"dataframe\">\n",
       "  <thead>\n",
       "    <tr style=\"text-align: right;\">\n",
       "      <th></th>\n",
       "      <th>capacidade_estadio</th>\n",
       "      <th>publico_estadio</th>\n",
       "      <th>time_casa</th>\n",
       "      <th>gols_casa</th>\n",
       "      <th>posse_casa</th>\n",
       "      <th>tentativas_casa</th>\n",
       "      <th>chutes_fora_casa</th>\n",
       "      <th>defesa_casa</th>\n",
       "      <th>escanteios_casa</th>\n",
       "      <th>cobrancas_falta_casa</th>\n",
       "      <th>...</th>\n",
       "      <th>posse_fora</th>\n",
       "      <th>tentativas_fora</th>\n",
       "      <th>chutes_fora_fora</th>\n",
       "      <th>defesa_fora</th>\n",
       "      <th>escanteios_fora</th>\n",
       "      <th>cobrancas_falta_fora</th>\n",
       "      <th>faltas_cometidas_fora</th>\n",
       "      <th>impedimentos_fora</th>\n",
       "      <th>ano</th>\n",
       "      <th>fase</th>\n",
       "    </tr>\n",
       "  </thead>\n",
       "  <tbody>\n",
       "    <tr>\n",
       "      <th>0</th>\n",
       "      <td>26047</td>\n",
       "      <td>0</td>\n",
       "      <td>Crystal Palace FC</td>\n",
       "      <td>1</td>\n",
       "      <td>30</td>\n",
       "      <td>5</td>\n",
       "      <td>2</td>\n",
       "      <td>5</td>\n",
       "      <td>7</td>\n",
       "      <td>10</td>\n",
       "      <td>...</td>\n",
       "      <td>70</td>\n",
       "      <td>9</td>\n",
       "      <td>3</td>\n",
       "      <td>2</td>\n",
       "      <td>3</td>\n",
       "      <td>14</td>\n",
       "      <td>11</td>\n",
       "      <td>0</td>\n",
       "      <td>2021</td>\n",
       "      <td>1.Rodada</td>\n",
       "    </tr>\n",
       "    <tr>\n",
       "      <th>1</th>\n",
       "      <td>54074</td>\n",
       "      <td>0</td>\n",
       "      <td>FC Liverpool</td>\n",
       "      <td>4</td>\n",
       "      <td>49</td>\n",
       "      <td>22</td>\n",
       "      <td>3</td>\n",
       "      <td>0</td>\n",
       "      <td>9</td>\n",
       "      <td>5</td>\n",
       "      <td>...</td>\n",
       "      <td>51</td>\n",
       "      <td>6</td>\n",
       "      <td>1</td>\n",
       "      <td>3</td>\n",
       "      <td>0</td>\n",
       "      <td>9</td>\n",
       "      <td>6</td>\n",
       "      <td>5</td>\n",
       "      <td>2021</td>\n",
       "      <td>1.Rodada</td>\n",
       "    </tr>\n",
       "    <tr>\n",
       "      <th>2</th>\n",
       "      <td>60000</td>\n",
       "      <td>0</td>\n",
       "      <td>West Ham United</td>\n",
       "      <td>0</td>\n",
       "      <td>58</td>\n",
       "      <td>15</td>\n",
       "      <td>5</td>\n",
       "      <td>0</td>\n",
       "      <td>8</td>\n",
       "      <td>7</td>\n",
       "      <td>...</td>\n",
       "      <td>42</td>\n",
       "      <td>15</td>\n",
       "      <td>7</td>\n",
       "      <td>3</td>\n",
       "      <td>7</td>\n",
       "      <td>11</td>\n",
       "      <td>7</td>\n",
       "      <td>4</td>\n",
       "      <td>2021</td>\n",
       "      <td>1.Rodada</td>\n",
       "    </tr>\n",
       "    <tr>\n",
       "      <th>3</th>\n",
       "      <td>2685</td>\n",
       "      <td>0</td>\n",
       "      <td>West Bromwich Albion</td>\n",
       "      <td>0</td>\n",
       "      <td>37</td>\n",
       "      <td>7</td>\n",
       "      <td>3</td>\n",
       "      <td>4</td>\n",
       "      <td>2</td>\n",
       "      <td>9</td>\n",
       "      <td>...</td>\n",
       "      <td>63</td>\n",
       "      <td>13</td>\n",
       "      <td>3</td>\n",
       "      <td>1</td>\n",
       "      <td>5</td>\n",
       "      <td>11</td>\n",
       "      <td>9</td>\n",
       "      <td>3</td>\n",
       "      <td>2021</td>\n",
       "      <td>1.Rodada</td>\n",
       "    </tr>\n",
       "    <tr>\n",
       "      <th>4</th>\n",
       "      <td>62062</td>\n",
       "      <td>0</td>\n",
       "      <td>Tottenham Hotspur</td>\n",
       "      <td>0</td>\n",
       "      <td>51</td>\n",
       "      <td>9</td>\n",
       "      <td>1</td>\n",
       "      <td>3</td>\n",
       "      <td>5</td>\n",
       "      <td>6</td>\n",
       "      <td>...</td>\n",
       "      <td>49</td>\n",
       "      <td>15</td>\n",
       "      <td>7</td>\n",
       "      <td>5</td>\n",
       "      <td>3</td>\n",
       "      <td>14</td>\n",
       "      <td>7</td>\n",
       "      <td>1</td>\n",
       "      <td>2021</td>\n",
       "      <td>1.Rodada</td>\n",
       "    </tr>\n",
       "  </tbody>\n",
       "</table>\n",
       "<p>5 rows × 24 columns</p>\n",
       "</div>"
      ],
      "text/plain": [
       "   capacidade_estadio  publico_estadio             time_casa  gols_casa  \\\n",
       "0               26047                0     Crystal Palace FC          1   \n",
       "1               54074                0          FC Liverpool          4   \n",
       "2               60000                0       West Ham United          0   \n",
       "3                2685                0  West Bromwich Albion          0   \n",
       "4               62062                0     Tottenham Hotspur          0   \n",
       "\n",
       "   posse_casa  tentativas_casa  chutes_fora_casa  defesa_casa  \\\n",
       "0          30                5                 2            5   \n",
       "1          49               22                 3            0   \n",
       "2          58               15                 5            0   \n",
       "3          37                7                 3            4   \n",
       "4          51                9                 1            3   \n",
       "\n",
       "   escanteios_casa  cobrancas_falta_casa  ...  posse_fora  tentativas_fora  \\\n",
       "0                7                    10  ...          70                9   \n",
       "1                9                     5  ...          51                6   \n",
       "2                8                     7  ...          42               15   \n",
       "3                2                     9  ...          63               13   \n",
       "4                5                     6  ...          49               15   \n",
       "\n",
       "  chutes_fora_fora  defesa_fora  escanteios_fora  cobrancas_falta_fora  \\\n",
       "0                3            2                3                    14   \n",
       "1                1            3                0                     9   \n",
       "2                7            3                7                    11   \n",
       "3                3            1                5                    11   \n",
       "4                7            5                3                    14   \n",
       "\n",
       "   faltas_cometidas_fora  impedimentos_fora   ano      fase  \n",
       "0                     11                  0  2021  1.Rodada  \n",
       "1                      6                  5  2021  1.Rodada  \n",
       "2                      7                  4  2021  1.Rodada  \n",
       "3                      9                  3  2021  1.Rodada  \n",
       "4                      7                  1  2021  1.Rodada  \n",
       "\n",
       "[5 rows x 24 columns]"
      ]
     },
     "execution_count": 20,
     "metadata": {},
     "output_type": "execute_result"
    }
   ],
   "source": [
    "final_df.head()"
   ]
  },
  {
   "cell_type": "code",
   "execution_count": 21,
   "metadata": {},
   "outputs": [
    {
     "data": {
      "text/plain": [
       "(2450, 24)"
      ]
     },
     "execution_count": 21,
     "metadata": {},
     "output_type": "execute_result"
    }
   ],
   "source": [
    "final_df.shape"
   ]
  },
  {
   "cell_type": "code",
   "execution_count": 22,
   "metadata": {},
   "outputs": [],
   "source": [
    "final_df = final_df[(final_df[\"capacidade_estadio\"] != 0)]"
   ]
  },
  {
   "cell_type": "code",
   "execution_count": 23,
   "metadata": {},
   "outputs": [
    {
     "data": {
      "text/plain": [
       "(2360, 24)"
      ]
     },
     "execution_count": 23,
     "metadata": {},
     "output_type": "execute_result"
    }
   ],
   "source": [
    "final_df.shape"
   ]
  },
  {
   "cell_type": "code",
   "execution_count": 24,
   "metadata": {},
   "outputs": [],
   "source": [
    "final_df.to_csv(\"partidas.csv\", index=False)"
   ]
  }
 ],
 "metadata": {
  "kernelspec": {
   "display_name": "ds",
   "language": "python",
   "name": "python3"
  },
  "language_info": {
   "codemirror_mode": {
    "name": "ipython",
    "version": 3
   },
   "file_extension": ".py",
   "mimetype": "text/x-python",
   "name": "python",
   "nbconvert_exporter": "python",
   "pygments_lexer": "ipython3",
   "version": "3.13.2"
  }
 },
 "nbformat": 4,
 "nbformat_minor": 2
}
